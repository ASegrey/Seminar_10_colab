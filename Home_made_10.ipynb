import random
import pandas as pd
import seaborn as sns
import matplotlib.pyplot as plt
import numpy as np

lst = ['robot'] * 10
lst += ['human'] * 10
random.shuffle(lst)
data = pd.DataFrame({'whoAmI':lst})
data.columns = ['whoAmI robot']
data['whoAmI human'] = data['whoAmI robot']
data['whoAmI robot'] = np.where(data['whoAmI robot'] == "robot", 1, 0)
data['whoAmI human'] = np.where(data['whoAmI human'] == "human", 1, 0)
data.head(20)
#pd.get_dummies(data)
